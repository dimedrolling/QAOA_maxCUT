{
 "cells": [
  {
   "cell_type": "code",
   "execution_count": 75,
   "metadata": {},
   "outputs": [],
   "source": [
    "import numpy as np\n",
    "import math\n",
    "import itertools\n",
    "import random\n",
    "import matplotlib as mpl\n",
    "import matplotlib.pyplot as plt\n",
    "import qiskit\n",
    "import qiskit.quantum_info as qi \n",
    "# import warnings\n",
    "# warnings.filterwarnings('ignore')\n",
    "import time\n",
    "import networkx as nx\n",
    "from scipy.linalg import expm\n",
    "from scipy.optimize import minimize, Bounds\n",
    "from qiskit import QuantumCircuit, Aer, execute\n"
   ]
  },
  {
   "cell_type": "code",
   "execution_count": 76,
   "metadata": {},
   "outputs": [],
   "source": [
    "def get_circuit_operators( lst_x=None, lst_z=None):\n",
    "    '''\n",
    "    note the order! (x,z)\n",
    "    '''\n",
    "    # returns for example X @ I @ I @ X @ I where @ is tensor product\n",
    "    return  qi.Pauli((lst_z,lst_x)).to_matrix()"
   ]
  },
  {
   "cell_type": "code",
   "execution_count": 170,
   "metadata": {},
   "outputs": [],
   "source": [
    "def generate_QAOA_operator(H1,H2, number_of_layers = 1 , beta_angle = [], gamma_angle = []):\n",
    "    \"\"\"_summary_\n",
    "\n",
    "    Args:\n",
    "        H (_type_): _description_\n",
    "        number_of_layers (int, optional): _description_. Defaults to 1.\n",
    "        beta_angle (list, optional): _description_. Defaults to [].\n",
    "        gamma_angle (list, optional): _description_. Defaults to [].\n",
    "\n",
    "    Returns:\n",
    "        _type_: _description_\n",
    "    \"\"\"    '''\n",
    "    '''\n",
    "    # define angles for mixers \n",
    "    if len(beta_angle)==0:\n",
    "        beta_angle = np.random.rand(number_of_layers) * np.pi\n",
    "\n",
    "\n",
    "    if len(gamma_angle)==0:\n",
    "        gamma_angle = np.random.rand(number_of_layers) * np.pi\n",
    "\n",
    "    ans = H1\n",
    "\n",
    "    x_string = get_circuit_operators(np.ones(int(np.log2(len(H1)))),np.zeros(int(np.log2(len(H1)))))\n",
    "\n",
    "    for p in range(number_of_layers):\n",
    "        # Making unitary for Hamiltonian exp\n",
    "        exp_H = expm(1j*H2*beta_angle[p])\n",
    "        # Making mixer X\n",
    "        exp_X = expm(1j*x_string*gamma_angle[p])\n",
    "\n",
    "        ans = exp_H @ exp_X @ ans @ exp_X.T.conjugate() @ exp_H.T.conjugate()\n",
    "\n",
    "    return ans\n",
    "   "
   ]
  },
  {
   "cell_type": "code",
   "execution_count": null,
   "metadata": {},
   "outputs": [],
   "source": []
  },
  {
   "cell_type": "code",
   "execution_count": 144,
   "metadata": {},
   "outputs": [],
   "source": [
    "# produce all binary strings of length n with k 1s. If k is None then all possible binary strings of length n produced\n",
    "def get_binary_strings(n, k=None) -> list[list]:\n",
    "    '''\n",
    "    produce all binary strings of length n with k 1s\n",
    "    returns list with binary lists \n",
    "    '''\n",
    "    final = []\n",
    "    def kbits(r):\n",
    "        result = []\n",
    "        for bits in itertools.combinations(range(n), r):\n",
    "            s = [0] * n\n",
    "            for bit in bits:\n",
    "                s[bit] = 1\n",
    "            result.append(s)   \n",
    "        return result\n",
    "\n",
    "    if k != None:\n",
    "        return kbits(k)\n",
    "    \n",
    "    for i in range(n + 1):\n",
    "        final = final + kbits(i)\n",
    "        \n",
    "    return final\n"
   ]
  },
  {
   "cell_type": "code",
   "execution_count": 145,
   "metadata": {},
   "outputs": [],
   "source": [
    "def count_solutions_XI(nqubits: int, Operator: np.array, tol=1e-10, if_print = False ) -> tuple:\n",
    "    \n",
    "    x_strings = get_binary_strings(nqubits)\n",
    "    z_zeros = np.zeros(nqubits)\n",
    "\n",
    "    ans = []\n",
    "    max_locality  = 0\n",
    "    avg_locality = 0.0\n",
    "\n",
    "    for i in x_strings:\n",
    "        x_mat = get_circuit_operators(i,z_zeros)\n",
    "        coef = 1/(1<<nqubits) * np.trace(x_mat@Operator)\n",
    "        if np.abs(coef)>tol:\n",
    "            count_x = np.sum(i)\n",
    "            ans.append((str(i),coef))\n",
    "            if count_x > max_locality:\n",
    "                max_locality = count_x\n",
    "            avg_locality += count_x\n",
    "    len_ans = len(ans)\n",
    "    if len_ans == 0:\n",
    "        len_ans = 1\n",
    "        print(\"len_ans is zero\")\n",
    "    \n",
    "    if if_print:\n",
    "        print(\"Non-zero Pauli strings:\", len_ans)\n",
    "        print(\"Max locality:\", max_locality)\n",
    "        print(\"Avg locality:\", avg_locality/len_ans)\n",
    "    return ans, max_locality, avg_locality/len_ans, len_ans\n"
   ]
  },
  {
   "cell_type": "code",
   "execution_count": 146,
   "metadata": {},
   "outputs": [],
   "source": [
    "from itertools import product\n",
    "from functools import reduce\n",
    "\n",
    "PAULIS = {'I': np.eye(2),\n",
    "          'X': np.array([[0, 1], [1, 0]]),\n",
    "          'Y': np.array([[0, -1j], [1j, 0]]),\n",
    "          'Z': np.diag([1, -1])}\n",
    "\n",
    "def get_pauli_decomp(in_matrix, display_every=5000, PAULIS=PAULIS):\n",
    "    \"\"\"Return dictionary with pauli strings and according weight.\n",
    "    in_matrix - input matrix (should be of size(2^m,2^m), where m is int.\n",
    "    display_time - if given int number print time spend for computation if False do not print.\n",
    "    PAULIS - dictionary with Pauli basis.\n",
    "\n",
    "    \"\"\"\n",
    "    m = int(np.log2(in_matrix.shape[0]))\n",
    "\n",
    "    pauli_weights = {}\n",
    "\n",
    "    k = 1\n",
    "    K = len(list(product(PAULIS.keys(), repeat=m)))\n",
    "\n",
    "    start_ = time.time()\n",
    "    for u in product(PAULIS.keys(), repeat=m):\n",
    "        pauli_str_name = ''.join(u)\n",
    "        pauli_str_matrix = reduce(np.kron, [PAULIS[s] for s in u])\n",
    "        inner_product = np.trace(in_matrix @ pauli_str_matrix) / 2**m\n",
    "        if not np.isclose(inner_product, 0):\n",
    "            pauli_weights[pauli_str_name] = inner_product\n",
    "        if display_every and k%display_every == 0:\n",
    "            print('\\t {} qubits || {}/{} || {:.3f} s passed'.format(m,k,K, time.time()-start_))\n",
    "        k+=1\n",
    "\n",
    "    return pauli_weights"
   ]
  },
  {
   "cell_type": "code",
   "execution_count": null,
   "metadata": {},
   "outputs": [],
   "source": []
  },
  {
   "cell_type": "code",
   "execution_count": 147,
   "metadata": {},
   "outputs": [],
   "source": [
    "N = 6\n",
    "# H = np.diag(np.random.rand(2**N))\n",
    "# generate_QAOA_operator(H)"
   ]
  },
  {
   "cell_type": "code",
   "execution_count": 148,
   "metadata": {},
   "outputs": [],
   "source": [
    "rng = np.random.default_rng()"
   ]
  },
  {
   "cell_type": "code",
   "execution_count": 200,
   "metadata": {},
   "outputs": [
    {
     "data": {
      "text/plain": [
       "array([[ 5.+0.j,  0.+0.j,  0.+0.j, ...,  0.+0.j,  0.+0.j,  0.+0.j],\n",
       "       [ 0.+0.j, -1.+0.j,  0.+0.j, ...,  0.+0.j,  0.+0.j,  0.+0.j],\n",
       "       [ 0.+0.j,  0.+0.j,  1.+0.j, ...,  0.+0.j,  0.+0.j,  0.+0.j],\n",
       "       ...,\n",
       "       [ 0.+0.j,  0.+0.j,  0.+0.j, ...,  1.+0.j,  0.+0.j,  0.+0.j],\n",
       "       [ 0.+0.j,  0.+0.j,  0.+0.j, ...,  0.+0.j, -1.+0.j,  0.+0.j],\n",
       "       [ 0.+0.j,  0.+0.j,  0.+0.j, ...,  0.+0.j,  0.+0.j,  5.+0.j]])"
      ]
     },
     "execution_count": 200,
     "metadata": {},
     "output_type": "execute_result"
    }
   ],
   "source": [
    "Zs = get_binary_strings(N,2)\n",
    "H1 = 0\n",
    "buf = rng.choice(Zs, 5, replace=False)\n",
    "for i in buf:\n",
    "    H1 = H1 + get_circuit_operators(np.zeros(N),i)\n",
    "H1"
   ]
  },
  {
   "cell_type": "code",
   "execution_count": 201,
   "metadata": {},
   "outputs": [
    {
     "data": {
      "text/plain": [
       "array([[15.+0.j,  0.+0.j,  0.+0.j, ...,  0.+0.j,  0.+0.j,  0.+0.j],\n",
       "       [ 0.+0.j, -1.+0.j,  0.+0.j, ...,  0.+0.j,  0.+0.j,  0.+0.j],\n",
       "       [ 0.+0.j,  0.+0.j, -1.+0.j, ...,  0.+0.j,  0.+0.j,  0.+0.j],\n",
       "       ...,\n",
       "       [ 0.+0.j,  0.+0.j,  0.+0.j, ...,  3.+0.j,  0.+0.j,  0.+0.j],\n",
       "       [ 0.+0.j,  0.+0.j,  0.+0.j, ...,  0.+0.j, -1.+0.j,  0.+0.j],\n",
       "       [ 0.+0.j,  0.+0.j,  0.+0.j, ...,  0.+0.j,  0.+0.j, -5.+0.j]])"
      ]
     },
     "execution_count": 201,
     "metadata": {},
     "output_type": "execute_result"
    }
   ],
   "source": [
    "H2 = np.copy(H1)\n",
    "for i in rng.choice( get_binary_strings(N,3), 10, replace=False):\n",
    "    H2 = H2 + get_circuit_operators(np.zeros(N),i)\n",
    "H2"
   ]
  },
  {
   "cell_type": "code",
   "execution_count": 202,
   "metadata": {},
   "outputs": [
    {
     "data": {
      "text/plain": [
       "{'IIIIZZ': (1+0j),\n",
       " 'IIIZIZ': (1+0j),\n",
       " 'IIIZZI': (1+0j),\n",
       " 'IZIIIZ': (1+0j),\n",
       " 'ZIZIII': (1+0j)}"
      ]
     },
     "execution_count": 202,
     "metadata": {},
     "output_type": "execute_result"
    }
   ],
   "source": [
    "get_pauli_decomp(generate_QAOA_operator(H1,H1))"
   ]
  },
  {
   "cell_type": "code",
   "execution_count": 168,
   "metadata": {},
   "outputs": [
    {
     "name": "stdout",
     "output_type": "stream",
     "text": [
      "len_ans is zero\n"
     ]
    },
    {
     "data": {
      "text/plain": [
       "([], 0, 0.0, 1)"
      ]
     },
     "execution_count": 168,
     "metadata": {},
     "output_type": "execute_result"
    }
   ],
   "source": [
    "count_solutions_XI(N,generate_QAOA_operator(H1,H2))"
   ]
  },
  {
   "cell_type": "code",
   "execution_count": null,
   "metadata": {},
   "outputs": [],
   "source": []
  },
  {
   "cell_type": "code",
   "execution_count": null,
   "metadata": {},
   "outputs": [],
   "source": []
  },
  {
   "cell_type": "code",
   "execution_count": null,
   "metadata": {},
   "outputs": [],
   "source": []
  },
  {
   "cell_type": "code",
   "execution_count": null,
   "metadata": {},
   "outputs": [],
   "source": []
  },
  {
   "cell_type": "code",
   "execution_count": 78,
   "metadata": {},
   "outputs": [],
   "source": [
    "def make_H_maxCUT(n, adj_mat):\n",
    "    H = np.zeros((2**n,2**n),dtype=complex)\n",
    "    zeros = np.zeros(n)\n",
    "\n",
    "    for i in range(n):\n",
    "        for j in range(i+1,n):\n",
    "            if adj_mat[i][j]!=0:\n",
    "                buf = np.zeros(n)\n",
    "                buf[i] = buf[j] = 1\n",
    "                H += adj_mat[i][j]*get_circuit_operators(zeros, buf)\n",
    "    return H"
   ]
  },
  {
   "cell_type": "code",
   "execution_count": 79,
   "metadata": {},
   "outputs": [],
   "source": [
    "def plus_state(n):\n",
    "    return 1/np.sqrt(2**n) * np.ones(2**n)"
   ]
  },
  {
   "cell_type": "code",
   "execution_count": 82,
   "metadata": {},
   "outputs": [],
   "source": [
    "def output_state(theta, H, layer):\n",
    "    n = int(np.log2(len(H)))\n",
    "    circ = generate_QAOA_operator(H, number_of_layers = layer , beta_angle = theta[:len(theta)//2], gamma_angle = theta[len(theta)//2:])\n",
    "    return np.dot(plus_state(n).T,circ)\n",
    "\n",
    "\n",
    "def energy(theta, H, layer):\n",
    "    state = output_state(theta, H, layer)\n",
    "    n = int(np.log2(len(H)))\n",
    "    return np.real(np.dot(state.conjugate().T, np.dot(H, state)))\n",
    "\n",
    "\n",
    "def get_expectation(H, layer):\n",
    "\n",
    "    def execute_circ(theta):\n",
    "        return energy(theta, H, layer)\n",
    "\n",
    "    return execute_circ\n"
   ]
  },
  {
   "cell_type": "code",
   "execution_count": 83,
   "metadata": {},
   "outputs": [],
   "source": [
    "def theta_for_ground_state(H,layer=1, repeat=10, maxiter=100):\n",
    "    bds = Bounds(0, 2 * np.pi)\n",
    "    expectation = get_expectation(H,layer)\n",
    "    for i in range(repeat):\n",
    "        initial_params = np.random.uniform(0, np.pi, layer*2)  # initial guess of parameters\n",
    "        res = minimize(expectation,\n",
    "                       initial_params, method='L-BFGS-B', jac='3-point', bounds=bds, options={'maxiter': maxiter})\n",
    "        if i == 0:\n",
    "            E_min = res.fun\n",
    "            params = res.x\n",
    "        if res.fun < E_min:\n",
    "            E_min = res.fun\n",
    "            params = res.x\n",
    "        # print(E_min)\n",
    "    return params, E_min"
   ]
  },
  {
   "cell_type": "code",
   "execution_count": 85,
   "metadata": {},
   "outputs": [
    {
     "data": {
      "text/plain": [
       "array([[ 1.+0.j,  0.+0.j,  0.+0.j,  0.+0.j],\n",
       "       [ 0.+0.j, -1.+0.j,  0.+0.j,  0.+0.j],\n",
       "       [ 0.+0.j,  0.+0.j, -1.+0.j,  0.+0.j],\n",
       "       [ 0.+0.j,  0.+0.j,  0.+0.j,  1.+0.j]])"
      ]
     },
     "execution_count": 85,
     "metadata": {},
     "output_type": "execute_result"
    }
   ],
   "source": [
    "H = make_H_maxCUT(2, [[0,1],[1,0]])\n",
    "H"
   ]
  },
  {
   "cell_type": "code",
   "execution_count": 86,
   "metadata": {},
   "outputs": [
    {
     "data": {
      "text/plain": [
       "(array([2.55498539, 1.73577337]), -4.940986256670209e-34)"
      ]
     },
     "execution_count": 86,
     "metadata": {},
     "output_type": "execute_result"
    }
   ],
   "source": [
    "theta_for_ground_state(H)"
   ]
  },
  {
   "cell_type": "code",
   "execution_count": 87,
   "metadata": {},
   "outputs": [
    {
     "data": {
      "text/plain": [
       "array([ 0.5+1.19313693e-16j, -0.5-1.19313693e-16j, -0.5+1.74824845e-16j,\n",
       "        0.5-6.38025421e-17j])"
      ]
     },
     "execution_count": 87,
     "metadata": {},
     "output_type": "execute_result"
    }
   ],
   "source": [
    "output_state([2.55498539, 1.73577337],H,1)"
   ]
  },
  {
   "cell_type": "code",
   "execution_count": null,
   "metadata": {},
   "outputs": [],
   "source": []
  }
 ],
 "metadata": {
  "kernelspec": {
   "display_name": "Python 3",
   "language": "python",
   "name": "python3"
  },
  "language_info": {
   "codemirror_mode": {
    "name": "ipython",
    "version": 3
   },
   "file_extension": ".py",
   "mimetype": "text/x-python",
   "name": "python",
   "nbconvert_exporter": "python",
   "pygments_lexer": "ipython3",
   "version": "3.10.2"
  },
  "orig_nbformat": 4
 },
 "nbformat": 4,
 "nbformat_minor": 2
}
