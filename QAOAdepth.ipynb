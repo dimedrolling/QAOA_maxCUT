{
 "cells": [
  {
   "cell_type": "code",
   "execution_count": 1,
   "metadata": {},
   "outputs": [],
   "source": [
    "import numpy as np\n",
    "import math\n",
    "import itertools\n",
    "import random\n",
    "import matplotlib as mpl\n",
    "import matplotlib.pyplot as plt\n",
    "import qiskit\n",
    "import qiskit.quantum_info as qi \n",
    "# import warnings\n",
    "# warnings.filterwarnings('ignore')\n",
    "import time\n",
    "import networkx as nx\n",
    "from scipy.linalg import expm\n",
    "from scipy.optimize import minimize, Bounds\n",
    "from qiskit import QuantumCircuit, Aer, execute\n",
    "import networkx as nx\n",
    "from QAOA_locality import *\n",
    "from QAOA_class import * "
   ]
  },
  {
   "cell_type": "code",
   "execution_count": 2,
   "metadata": {},
   "outputs": [],
   "source": [
    "def depth_scaling(H, p_c_start=1, p_c_stop=15, epsilon = 0.1, seeds=100):\n",
    "\n",
    "    check = False\n",
    "    for p_c in range(p_c_start, p_c_stop+1):       \n",
    "        Q1 = QAOA(p_c,H)\n",
    "        for s in range(1,seeds +1):\n",
    "            Q1.run_heuristic_LW()  \n",
    "            if Q1.q_error <= epsilon:\n",
    "                check = True \n",
    "                break\n",
    "        if check:\n",
    "            break\n",
    "\n",
    "    return Q1, p_c"
   ]
  },
  {
   "cell_type": "code",
   "execution_count": 3,
   "metadata": {},
   "outputs": [
    {
     "data": {
      "text/plain": [
       "2"
      ]
     },
     "execution_count": 3,
     "metadata": {},
     "output_type": "execute_result"
    },
    {
     "data": {
      "image/png": "[encoded data removed]",
      "text/plain": [
       "<Figure size 432x288 with 1 Axes>"
      ]
     },
     "metadata": {},
     "output_type": "display_data"
    }
   ],
   "source": [
    "n = 6  # Number of nodes in graph\n",
    "G = nx.random_regular_graph(3,n)\n",
    "H = get_Hamiltonian(G)\n",
    "nx.draw_networkx(G,  node_size=600, alpha=0.8)\n",
    "nx.diameter(G)"
   ]
  },
  {
   "cell_type": "code",
   "execution_count": 12,
   "metadata": {},
   "outputs": [
    {
     "data": {
      "text/plain": [
       "4"
      ]
     },
     "execution_count": 12,
     "metadata": {},
     "output_type": "execute_result"
    }
   ],
   "source": [
    "_, p_star = depth_scaling(H)\n",
    "p_star"
   ]
  },
  {
   "cell_type": "code",
   "execution_count": null,
   "metadata": {},
   "outputs": [],
   "source": [
    "count_solutions_XI(construct_QAOA_operator_from_H(H,2))"
   ]
  },
  {
   "cell_type": "code",
   "execution_count": null,
   "metadata": {},
   "outputs": [],
   "source": [
    "def check_all_terms(count_sol_results):\n",
    "    n = len(np.fromstring(count_sol_results[0][0][0][1:-1],sep=', ',dtype=int))\n",
    "    results = count_sol_results[0]\n",
    "    for r in results:\n",
    "        "
   ]
  },
  {
   "cell_type": "code",
   "execution_count": 21,
   "metadata": {},
   "outputs": [
    {
     "data": {
      "text/plain": [
       "array([1, 0, 0, 0, 0, 0])"
      ]
     },
     "execution_count": 21,
     "metadata": {},
     "output_type": "execute_result"
    }
   ],
   "source": []
  }
 ],
 "metadata": {
  "kernelspec": {
   "display_name": "Python 3",
   "language": "python",
   "name": "python3"
  },
  "language_info": {
   "codemirror_mode": {
    "name": "ipython",
    "version": 3
   },
   "file_extension": ".py",
   "mimetype": "text/x-python",
   "name": "python",
   "nbconvert_exporter": "python",
   "pygments_lexer": "ipython3",
   "version": "3.10.2"
  },
  "orig_nbformat": 4
 },
 "nbformat": 4,
 "nbformat_minor": 2
}
