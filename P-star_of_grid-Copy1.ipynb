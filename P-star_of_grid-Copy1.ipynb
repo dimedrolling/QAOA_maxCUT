{
 "cells": [
  {
   "cell_type": "code",
   "execution_count": 2,
   "id": "649d50db",
   "metadata": {},
   "outputs": [],
   "source": [
    "import numpy as np\n",
    "import QAOA_class as Q\n",
    "import networkx as nx\n",
    "import random\n",
    "import matplotlib as mpl\n",
    "import matplotlib.pyplot as plt\n",
    "import warnings\n",
    "import csv\n",
    "import math\n",
    "warnings.filterwarnings('ignore')"
   ]
  },
  {
   "cell_type": "code",
   "execution_count": 3,
   "id": "bdb192d2",
   "metadata": {},
   "outputs": [],
   "source": [
    "def tensor(k):\n",
    "    t = k[0]\n",
    "    i = 1\n",
    "    \n",
    "    while i < len(k) :\n",
    "        t = np.kron(t,k[i])\n",
    "        i+=1\n",
    "    return t\n",
    "\n",
    "\n",
    "def Graph_to_Hamiltonian(G,n): \n",
    "    H = np.zeros((2**n), dtype = 'float64') \n",
    "    Z = np.array([1,-1],dtype = 'float64')\n",
    "    \n",
    "    for i in range(n):\n",
    "        j = i+1\n",
    "        while j<n:\n",
    "            k = [[1,1]]*n\n",
    "            k = np.array(k,dtype = 'float64')\n",
    "                \n",
    "            if G[i][j] !=0:\n",
    "                k[i] = Z\n",
    "                k[j] = Z\n",
    "                H+= tensor(k)*G[i][j]\n",
    "                    \n",
    "            j+=1\n",
    "        \n",
    "    return H"
   ]
  },
  {
   "cell_type": "code",
   "execution_count": 4,
   "id": "a2c15f8e",
   "metadata": {},
   "outputs": [],
   "source": [
    "def get_Hamiltonian(G):\n",
    "    graph_array = nx.to_numpy_array(G)\n",
    "    \n",
    "    H = Graph_to_Hamiltonian(graph_array, G.number_of_nodes())\n",
    "    \n",
    "    return H\n",
    "    "
   ]
  },
  {
   "cell_type": "code",
   "execution_count": 5,
   "id": "5913273e",
   "metadata": {},
   "outputs": [],
   "source": [
    "def depth_scaling(H, p_c_start=1, p_c_stop=15):\n",
    "#     file_dump([\"Energy achieved\", \"Minimum Energy\", \"Error\", \"Overlap\", \"Degenaracy\", \"Depth\", \"seed\", \"Exec. Time\"], f_name1)\n",
    "    p_c = p_c_start\n",
    "    check = False\n",
    "    epsilon = 0.1\n",
    "    seeds = 100\n",
    "    p_star = None\n",
    "    \n",
    "    while not check and p_c <= p_c_stop:\n",
    "        \n",
    "        Q1 = Q.QAOA(p_c,H)\n",
    "        seed_result = []\n",
    "        \n",
    "        for s in range(1,seeds +1):\n",
    "            Q1.run_heuristic_LW()\n",
    "            temp = [Q1.q_energy, Q1.min, Q1.q_error, Q1.olap, Q1.deg, p_c, s, Q1.exe_time]\n",
    "#             file_dump(temp,f_name1)\n",
    "            seed_result.append(temp)\n",
    "            temp = list(Q1.opt_angles)\n",
    "            temp.append(s)\n",
    "            temp.append(p_c)\n",
    "#             file_dump(temp,f_name2)\n",
    "        \n",
    "        \n",
    "        seed_result = np.asarray(seed_result)\n",
    "#         print(seed_result)\n",
    "        idx = np.argmin(seed_result[:,2])\n",
    "        best = seed_result[idx]\n",
    "        \n",
    "        if best[2]<=epsilon:\n",
    "            # print(\"Q1.err\",Q1.q_error)\n",
    "            # print(\"seed res\",seed_result.shape,seed_result[idx])\n",
    "            check = True\n",
    "        else:\n",
    "            p_c+= 1\n",
    "    \n",
    "    return best, p_c"
   ]
  },
  {
   "cell_type": "code",
   "execution_count": 6,
   "id": "de14464c",
   "metadata": {},
   "outputs": [],
   "source": [
    "nqubits = 6"
   ]
  },
  {
   "cell_type": "code",
   "execution_count": 34,
   "id": "cdf2945c",
   "metadata": {},
   "outputs": [],
   "source": [
    "G = nx.cycle_graph(nqubits)"
   ]
  },
  {
   "cell_type": "code",
   "execution_count": 7,
   "id": "0c8273a3",
   "metadata": {},
   "outputs": [],
   "source": [
    "G = nx.Graph()\n",
    "nodes = [0, 1, 2, 3]\n",
    "edges = [(0, 1), (0, 2), (0, 3), (1, 2), (2, 3), (1, 3)]\n",
    "G.add_nodes_from(nodes)\n",
    "G.add_edges_from(edges)"
   ]
  },
  {
   "cell_type": "code",
   "execution_count": 7,
   "id": "9f2c31ae",
   "metadata": {},
   "outputs": [],
   "source": [
    "G = nx.random_regular_graph(3,nqubits)"
   ]
  },
  {
   "cell_type": "code",
   "execution_count": 8,
   "id": "1f3e1ce4",
   "metadata": {},
   "outputs": [
    {
     "data": {
      "text/plain": [
       "array([ 9.,  3.,  3.,  1.,  3.,  1., -3., -1.,  3., -3.,  1., -1.,  1.,\n",
       "       -1., -1.,  1.,  3., -3.,  1., -1.,  1., -1., -1.,  1., -3., -9.,\n",
       "       -1., -3., -1., -3.,  1.,  3.,  3.,  1., -3., -1., -3., -1., -9.,\n",
       "       -3.,  1., -1., -1.,  1., -1.,  1., -3.,  3.,  1., -1., -1.,  1.,\n",
       "       -1.,  1., -3.,  3., -1., -3.,  1.,  3.,  1.,  3.,  3.,  9.])"
      ]
     },
     "execution_count": 8,
     "metadata": {},
     "output_type": "execute_result"
    },
    {
     "data": {
      "image/png": "[encoded data removed]",
      "text/plain": [
       "<Figure size 432x288 with 1 Axes>"
      ]
     },
     "metadata": {},
     "output_type": "display_data"
    }
   ],
   "source": [
    "nx.draw_networkx(G, node_size=600, alpha=0.8)\n",
    "H = get_Hamiltonian(G)\n",
    "H"
   ]
  },
  {
   "cell_type": "code",
   "execution_count": 9,
   "id": "24b2448b",
   "metadata": {},
   "outputs": [
    {
     "data": {
      "text/plain": [
       "4"
      ]
     },
     "execution_count": 9,
     "metadata": {},
     "output_type": "execute_result"
    }
   ],
   "source": [
    "_, p_star = depth_scaling(H)\n",
    "p_star"
   ]
  },
  {
   "cell_type": "code",
   "execution_count": null,
   "id": "c839b2de",
   "metadata": {},
   "outputs": [],
   "source": []
  }
 ],
 "metadata": {
  "kernelspec": {
   "display_name": "Python 3 (ipykernel)",
   "language": "python",
   "name": "python3"
  },
  "language_info": {
   "codemirror_mode": {
    "name": "ipython",
    "version": 3
   },
   "file_extension": ".py",
   "mimetype": "text/x-python",
   "name": "python",
   "nbconvert_exporter": "python",
   "pygments_lexer": "ipython3",
   "version": "3.10.2"
  }
 },
 "nbformat": 4,
 "nbformat_minor": 5
}
