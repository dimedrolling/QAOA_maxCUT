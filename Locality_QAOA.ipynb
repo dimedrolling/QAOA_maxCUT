{
 "cells": [
  {
   "cell_type": "code",
   "execution_count": 1,
   "metadata": {},
   "outputs": [],
   "source": [
    "import numpy as np\n",
    "import math\n",
    "import itertools\n",
    "import random\n",
    "import matplotlib as mpl\n",
    "import matplotlib.pyplot as plt\n",
    "import qiskit\n",
    "import qiskit.quantum_info as qi \n",
    "# import warnings\n",
    "# warnings.filterwarnings('ignore')\n",
    "import time\n",
    "import networkx as nx\n"
   ]
  },
  {
   "cell_type": "code",
   "execution_count": 2,
   "metadata": {},
   "outputs": [],
   "source": [
    "# produce all binary strings of length n with k 1s. If k is None then all possible binary strings of length n produced\n",
    "def get_binary_strings(n, k=None) -> list[list]:\n",
    "    '''\n",
    "    produce all binary strings of length n with k 1s\n",
    "    returns list with binary lists \n",
    "    '''\n",
    "    final = []\n",
    "    def kbits(r):\n",
    "        result = []\n",
    "        for bits in itertools.combinations(range(n), r):\n",
    "            s = [0] * n\n",
    "            for bit in bits:\n",
    "                s[bit] = 1\n",
    "            result.append(s)   \n",
    "        return result\n",
    "\n",
    "    if k != None:\n",
    "        return kbits(k)\n",
    "    \n",
    "    for i in range(n + 1):\n",
    "        final = final + kbits(i)\n",
    "        \n",
    "    return final\n"
   ]
  },
  {
   "cell_type": "code",
   "execution_count": 3,
   "metadata": {},
   "outputs": [],
   "source": [
    "\n",
    "def get_circuit_operators( lst_x=None, lst_z=None):\n",
    "    '''\n",
    "    note the order! (x,z)\n",
    "    '''\n",
    "    # returns for example X @ I @ I @ X @ I where @ is tensor product\n",
    "    return  qi.Pauli((lst_z,lst_x)).to_matrix()"
   ]
  },
  {
   "cell_type": "code",
   "execution_count": 18,
   "metadata": {},
   "outputs": [],
   "source": [
    "def generate_QAOA_operator(nqubits, locality, number_of_terms, number_of_layers = 1 , beta_angle = [], gamma_angle = []):\n",
    "    \"\"\"_summary_\n",
    "\n",
    "    Args:\n",
    "        nqubits (_type_): _description_\n",
    "        locality (_type_): _description_\n",
    "        number_of_terms (_type_): _description_\n",
    "        number_of_layers (int, optional): _description_. Defaults to 1.\n",
    "\n",
    "    Returns:\n",
    "        _type_: _description_\n",
    "    \"\"\"    '''\n",
    "\n",
    "    '''\n",
    "\n",
    "    # define angles for mixers \n",
    "    if len(beta_angle)==0:\n",
    "        beta_angle = np.random.rand(number_of_layers) * np.pi\n",
    "    cos_angle_beta = np.ones(number_of_layers)*np.cos(beta_angle)\n",
    "    sin_angle_beta = np.ones(number_of_layers)*np.sin(beta_angle)\n",
    "\n",
    "    if len(gamma_angle)==0:\n",
    "        gamma_angle = np.random.rand(number_of_layers) * np.pi\n",
    "    cos_angle_gamma = np.ones(number_of_layers)*np.cos(gamma_angle)\n",
    "    sin_angle_gamma = np.ones(number_of_layers)*np.sin(gamma_angle)\n",
    " \n",
    "\n",
    "    # making Hamiltonian \n",
    "\n",
    "    locality = min(locality, nqubits)\n",
    "    number_of_terms = min(number_of_terms,nqubits)\n",
    "\n",
    "    # Hamiltonian  ZjZk\n",
    "    rng = np.random.default_rng()\n",
    "    Zs = get_binary_strings(nqubits,locality)\n",
    "    # pickedZ = np.random.choice(Zs,size=number_of_terms,replace=False)\n",
    "    pickedZ = rng.choice(Zs, min(number_of_terms,len(Zs)), replace=False)\n",
    "    if number_of_terms > len(Zs):\n",
    "        print(\"Warning: less terms than possible terms\")\n",
    "    # Making Hamiltonian\n",
    "    H = 0\n",
    "    for i in range(0,len(pickedZ)):\n",
    "        H = H + get_circuit_operators(np.zeros(nqubits),pickedZ[i])\n",
    "\n",
    "    ans = H\n",
    "\n",
    "    for p in range(number_of_layers):\n",
    "        # Making unitary for Hamiltonian exp\n",
    "        identity = get_circuit_operators(np.zeros(nqubits),np.zeros(nqubits))\n",
    "\n",
    "        \n",
    "        unitary_z = identity\n",
    "\n",
    "        for i in range(0,len(pickedZ)):\n",
    "            unitary_z = unitary_z@(cos_angle_beta[p]*identity \\\n",
    "            - 1j*sin_angle_beta[p]*get_circuit_operators(np.zeros(nqubits),pickedZ[i]))\n",
    "\n",
    "\n",
    "        # Making mixer X\n",
    "        x_string = np.zeros(nqubits)\n",
    "        x_string[0] = 1\n",
    "        unitary_x = identity\n",
    "\n",
    "        x_string[0] = 0\n",
    "        for i in range(0,nqubits):\n",
    "            x_string[i] = 1\n",
    "            unitary_x = unitary_x@(cos_angle_gamma[p]*identity \\\n",
    "            - 1j*sin_angle_gamma[p]*get_circuit_operators(x_string,np.zeros(nqubits)))\n",
    "            x_string[i] = 0\n",
    "\n",
    "\n",
    "        ans = unitary_z @ unitary_x @ ans @ unitary_x.conjugate().T @ unitary_z.conjugate().T\n",
    "\n",
    "    return ans\n",
    "   "
   ]
  },
  {
   "cell_type": "code",
   "execution_count": 19,
   "metadata": {},
   "outputs": [],
   "source": [
    "def count_solutions_XI(nqubits: int, Operator: np.array, tol=1e-10, if_print = False ) -> tuple:\n",
    "    \n",
    "    x_strings = get_binary_strings(nqubits)\n",
    "    z_zeros = np.zeros(nqubits)\n",
    "\n",
    "    ans = []\n",
    "    max_locality  = 0\n",
    "    avg_locality = 0.0\n",
    "\n",
    "    for i in x_strings:\n",
    "        x_mat = get_circuit_operators(i,z_zeros)\n",
    "        coef = 1/(1<<nqubits) * np.trace(x_mat@Operator)\n",
    "        if np.abs(coef)>tol:\n",
    "            count_x = np.sum(i)\n",
    "            ans.append((str(i),coef))\n",
    "            if count_x > max_locality:\n",
    "                max_locality = count_x\n",
    "            avg_locality += count_x\n",
    "    len_ans = len(ans)\n",
    "    if len_ans == 0:\n",
    "        len_ans = 1\n",
    "        print(\"len_ans is zero\")\n",
    "    \n",
    "    if if_print:\n",
    "        print(\"Non-zero Pauli strings:\", len_ans)\n",
    "        print(\"Max locality:\", max_locality)\n",
    "        print(\"Avg locality:\", avg_locality/len_ans)\n",
    "    return ans, max_locality, avg_locality/len_ans, len_ans\n"
   ]
  },
  {
   "cell_type": "code",
   "execution_count": 20,
   "metadata": {},
   "outputs": [],
   "source": [
    "def make_grid(nqubits: int, max_loc: int, max_terms: int, number_of_layers=1, save=False)->np.ndarray:\n",
    "    grid = np.zeros((max_loc,max_terms,3))\n",
    "    with open('localityPaulis{}.npy'.format(nqubits), 'wb') as f:\n",
    "        for i in range(1,max_loc+1):\n",
    "            for j in range(1,max_terms+1):\n",
    "                if i==nqubits and j>1:\n",
    "                    # grid[i-1][j-1][2] = grid[i-1][0][2]\n",
    "                    continue\n",
    "                ans = generate_QAOA_operator(nqubits=nqubits,locality=i,number_of_terms=j,number_of_layers=number_of_layers)\n",
    "                ans, max_loc, avg_loc, len_ans = count_solutions_XI(nqubits,ans,1e-10)\n",
    "                if save:\n",
    "                    np.save(f, 'loc {}, term {}'.format(i,j))\n",
    "                    np.save(f, ans)\n",
    "                grid[i-1][j-1][0] = max_loc\n",
    "                grid[i-1][j-1][1] = avg_loc\n",
    "                grid[i-1][j-1][2] = len_ans                \n",
    "    return grid\n"
   ]
  },
  {
   "attachments": {},
   "cell_type": "markdown",
   "metadata": {},
   "source": [
    "# CHECK"
   ]
  },
  {
   "cell_type": "code",
   "execution_count": 37,
   "metadata": {},
   "outputs": [
    {
     "data": {
      "text/plain": [
       "[('[1, 0, 0]', (-0.3831576901510929+0j)),\n",
       " ('[0, 0, 1]', (-0.3831576901510929+0j))]"
      ]
     },
     "execution_count": 37,
     "metadata": {},
     "output_type": "execute_result"
    }
   ],
   "source": [
    "ans = generate_QAOA_operator(nqubits=3,locality=2,number_of_terms=1,number_of_layers=1)\n",
    "ans, max_loc, avg_loc, len_ans = count_solutions_XI(3,ans,1e-10)\n",
    "ans"
   ]
  },
  {
   "attachments": {},
   "cell_type": "markdown",
   "metadata": {},
   "source": [
    "# PLOT GRID"
   ]
  },
  {
   "cell_type": "code",
   "execution_count": 9,
   "metadata": {},
   "outputs": [],
   "source": [
    "def plot_grid(grid: np.ndarray, param_to_show=2):\n",
    "\n",
    "    localities = [i + 1 for i in range(grid.shape[0])]\n",
    "    num_of_terms = [i + 1 for i in range(grid.shape[1])]\n",
    "\n",
    "    param_to_show_name = ''\n",
    "    if param_to_show == 2:\n",
    "        param_to_show_name = 'total terms'\n",
    "    elif param_to_show == 1:\n",
    "        param_to_show_name = 'average locality'\n",
    "    else:\n",
    "        param_to_show_name = 'max locality'\n",
    "\n",
    "\n",
    "    fig = plt.figure()\n",
    "    ax = fig.add_subplot(111)\n",
    "    cax = ax.matshow(grid[:,:,param_to_show], interpolation='nearest', cmap='plasma')\n",
    "    \n",
    "    # ax.set_yticks(localities)\n",
    "    # ax.set_xticks(num_of_terms)\n",
    "\n",
    "    fig.colorbar(cax)\n",
    "    \n",
    "    for locality in localities:\n",
    "        for number_of_terms in num_of_terms:\n",
    "            # print(locality,number_of_terms)\n",
    "            ax.text(number_of_terms-1, locality-1, '{:.2f}'.format(grid[locality-1][number_of_terms-1][param_to_show]),  ha='center', va='center')\n",
    "            \n",
    "    ax.set_xlabel('No. of Terms', fontsize = 15)\n",
    "    ax.set_ylabel('Locality', fontsize = 15)\n",
    "    ax.set_title('Qubits {}, {}'.format(len(localities), param_to_show_name), fontsize = 20)\n",
    "\n",
    "    plt.show()"
   ]
  },
  {
   "cell_type": "code",
   "execution_count": 82,
   "metadata": {},
   "outputs": [],
   "source": [
    "# %load_ext line_profiler"
   ]
  },
  {
   "cell_type": "code",
   "execution_count": 83,
   "metadata": {},
   "outputs": [],
   "source": [
    "# %lprun -f make_grid make_grid(5,3,3)"
   ]
  },
  {
   "cell_type": "code",
   "execution_count": 84,
   "metadata": {},
   "outputs": [],
   "source": [
    "# %lprun -f count_solutions_XI count_solutions_XI(ans)"
   ]
  },
  {
   "cell_type": "code",
   "execution_count": 38,
   "metadata": {},
   "outputs": [],
   "source": [
    "grid = make_grid(4, 4, 4,2)"
   ]
  },
  {
   "cell_type": "code",
   "execution_count": 11,
   "metadata": {},
   "outputs": [],
   "source": [
    "plt.rcParams[\"figure.figsize\"] = (40,10)"
   ]
  },
  {
   "cell_type": "code",
   "execution_count": 12,
   "metadata": {},
   "outputs": [
    {
     "data": {
      "image/png": "[encoded data removed]",
      "text/plain": [
       "<Figure size 2880x720 with 2 Axes>"
      ]
     },
     "metadata": {
      "needs_background": "light"
     },
     "output_type": "display_data"
    }
   ],
   "source": [
    "plot_grid(grid,2)"
   ]
  },
  {
   "cell_type": "code",
   "execution_count": null,
   "metadata": {},
   "outputs": [],
   "source": []
  }
 ],
 "metadata": {
  "kernelspec": {
   "display_name": "Python 3",
   "language": "python",
   "name": "python3"
  },
  "language_info": {
   "codemirror_mode": {
    "name": "ipython",
    "version": 3
   },
   "file_extension": ".py",
   "mimetype": "text/x-python",
   "name": "python",
   "nbconvert_exporter": "python",
   "pygments_lexer": "ipython3",
   "version": "3.10.2"
  },
  "orig_nbformat": 4
 },
 "nbformat": 4,
 "nbformat_minor": 2
}
