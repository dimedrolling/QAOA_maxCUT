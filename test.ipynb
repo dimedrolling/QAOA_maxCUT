{
 "cells": [
  {
   "cell_type": "code",
   "execution_count": 1,
   "metadata": {},
   "outputs": [],
   "source": [
    "import numpy as np\n",
    "import math\n",
    "import itertools\n",
    "import random\n",
    "import matplotlib as mpl\n",
    "import matplotlib.pyplot as plt\n",
    "import qiskit\n",
    "import qiskit.quantum_info as qi \n",
    "# import warnings\n",
    "# warnings.filterwarnings('ignore')\n",
    "import time\n",
    "import networkx as nx\n",
    "from scipy.linalg import expm\n",
    "from scipy.optimize import minimize, Bounds\n",
    "from qiskit import QuantumCircuit, Aer, execute\n"
   ]
  },
  {
   "cell_type": "code",
   "execution_count": 2,
   "metadata": {},
   "outputs": [],
   "source": [
    "from itertools import product\n",
    "from functools import reduce\n",
    "\n",
    "PAULIS = {'I': np.eye(2),\n",
    "          'X': np.array([[0, 1], [1, 0]]),\n",
    "          'Y': np.array([[0, -1j], [1j, 0]]),\n",
    "          'Z': np.diag([1, -1])}\n",
    "\n",
    "def get_pauli_decomp(in_matrix, display_every=5000, PAULIS=PAULIS):\n",
    "    \"\"\"Return dictionary with pauli strings and according weight.\n",
    "    in_matrix - input matrix (should be of size(2^m,2^m), where m is int.\n",
    "    display_time - if given int number print time spend for computation if False do not print.\n",
    "    PAULIS - dictionary with Pauli basis.\n",
    "\n",
    "    \"\"\"\n",
    "    m = int(np.log2(in_matrix.shape[0]))\n",
    "\n",
    "    pauli_weights = {}\n",
    "\n",
    "    k = 1\n",
    "    K = len(list(product(PAULIS.keys(), repeat=m)))\n",
    "\n",
    "    start_ = time.time()\n",
    "    for u in product(PAULIS.keys(), repeat=m):\n",
    "        pauli_str_name = ''.join(u)\n",
    "        pauli_str_matrix = reduce(np.kron, [PAULIS[s] for s in u])\n",
    "        inner_product = np.trace(in_matrix @ pauli_str_matrix) / 2**m\n",
    "        if not np.isclose(inner_product, 0):\n",
    "            pauli_weights[pauli_str_name] = inner_product\n",
    "        if display_every and k%display_every == 0:\n",
    "            print('\\t {} qubits || {}/{} || {:.3f} s passed'.format(m,k,K, time.time()-start_))\n",
    "        k+=1\n",
    "\n",
    "    return pauli_weights\n",
    "\n",
    "# produce all binary strings of length n with k 1s. If k is None then all possible binary strings of length n produced\n",
    "def get_binary_strings(n, k=None) -> list[list]:\n",
    "    '''\n",
    "    produce all binary strings of length n with k 1s\n",
    "    returns list with binary lists \n",
    "    '''\n",
    "    final = []\n",
    "    def kbits(r):\n",
    "        result = []\n",
    "        for bits in itertools.combinations(range(n), r):\n",
    "            s = [0] * n\n",
    "            for bit in bits:\n",
    "                s[bit] = 1\n",
    "            result.append(s)   \n",
    "        return result\n",
    "\n",
    "    if k != None:\n",
    "        return kbits(k)\n",
    "    \n",
    "    for i in range(n + 1):\n",
    "        final = final + kbits(i)\n",
    "        \n",
    "    return final\n",
    "\n",
    "def count_solutions_XI(nqubits: int, Operator: np.array, tol=1e-10, if_print = False ) -> tuple:\n",
    "    \n",
    "    x_strings = get_binary_strings(nqubits)\n",
    "    z_zeros = np.zeros(nqubits)\n",
    "\n",
    "    ans = []\n",
    "    max_locality  = 0\n",
    "    avg_locality = 0.0\n",
    "\n",
    "    for i in x_strings:\n",
    "        x_mat = get_circuit_operators(i,z_zeros)\n",
    "        coef = 1/(1<<nqubits) * np.trace(x_mat@Operator)\n",
    "        if np.abs(coef)>tol:\n",
    "            count_x = np.sum(i)\n",
    "            ans.append((str(i),coef))\n",
    "            if count_x > max_locality:\n",
    "                max_locality = count_x\n",
    "            avg_locality += count_x\n",
    "    len_ans = len(ans)\n",
    "    if len_ans == 0:\n",
    "        len_ans = 1\n",
    "        print(\"len_ans is zero\")\n",
    "    \n",
    "    if if_print:\n",
    "        print(\"Non-zero Pauli strings:\", len_ans)\n",
    "        print(\"Max locality:\", max_locality)\n",
    "        print(\"Avg locality:\", avg_locality/len_ans)\n",
    "    return ans, max_locality, avg_locality/len_ans, len_ans\n",
    "\n",
    "\n",
    "\n",
    "def get_circuit_operators( lst_x=None, lst_z=None):\n",
    "    '''\n",
    "    note the order! (x,z)\n",
    "    '''\n",
    "    # returns for example X @ I @ I @ X @ I where @ is tensor product\n",
    "    return  qi.Pauli((lst_z,lst_x)).to_matrix()\n",
    "\n",
    "\n",
    "def generate_QAOA_operator(H1,H2, number_of_layers = 1 , beta_angle = [], gamma_angle = []):\n",
    "    \"\"\"_summary_\n",
    "\n",
    "    Args:\n",
    "        H (_type_): _description_\n",
    "        number_of_layers (int, optional): _description_. Defaults to 1.\n",
    "        beta_angle (list, optional): _description_. Defaults to [].\n",
    "        gamma_angle (list, optional): _description_. Defaults to [].\n",
    "\n",
    "    Returns:\n",
    "        _type_: _description_\n",
    "    \"\"\"    '''\n",
    "    '''\n",
    "    # define angles for mixers \n",
    "    if len(beta_angle)==0:\n",
    "        beta_angle = np.random.rand(number_of_layers) * np.pi/3\n",
    "\n",
    "\n",
    "    if len(gamma_angle)==0:\n",
    "        gamma_angle = np.random.rand(number_of_layers) * np.pi/6\n",
    "\n",
    "    ans = H1\n",
    "\n",
    "    nqubits = int(np.log2(len(H1)))\n",
    "\n",
    "   \n",
    "    mixer = 0\n",
    "    x_string = np.zeros(nqubits)\n",
    "\n",
    "    for i in range(0,nqubits):\n",
    "        x_string[i] = 1\n",
    "        mixer = mixer + get_circuit_operators(x_string, np.zeros(nqubits))\n",
    "        x_string[i] = 0\n",
    "    for p in range(number_of_layers):\n",
    "        # Making unitary for Hamiltonian exp\n",
    "        exp_H = expm(1j*H2*beta_angle[p])\n",
    "        # Making mixer X\n",
    "        exp_X = expm(1j*mixer*gamma_angle[p])\n",
    "\n",
    "        ans = exp_H @ exp_X @ ans @ exp_X.T.conjugate() @ exp_H.T.conjugate()\n",
    "\n",
    "    return ans\n",
    "   \n",
    "def make_H_maxCUT(n, adj_mat):\n",
    "    H = np.zeros((2**n,2**n),dtype=complex)\n",
    "    zeros = np.zeros(n)\n",
    "\n",
    "    for i in range(n):\n",
    "        for j in range(i+1,n):\n",
    "            if adj_mat[i][j]!=0:\n",
    "                buf = np.zeros(n)\n",
    "                buf[i] = buf[j] = 1\n",
    "                H += adj_mat[i][j]*get_circuit_operators(zeros, buf)\n",
    "    return H"
   ]
  },
  {
   "cell_type": "code",
   "execution_count": 3,
   "metadata": {},
   "outputs": [
    {
     "data": {
      "text/plain": [
       "array([[ 1.+0.j,  0.+0.j,  0.+0.j,  0.+0.j],\n",
       "       [ 0.+0.j, -1.+0.j,  0.+0.j,  0.+0.j],\n",
       "       [ 0.+0.j,  0.+0.j, -1.+0.j,  0.+0.j],\n",
       "       [ 0.+0.j,  0.+0.j,  0.+0.j,  1.+0.j]])"
      ]
     },
     "execution_count": 3,
     "metadata": {},
     "output_type": "execute_result"
    }
   ],
   "source": [
    "H = make_H_maxCUT(2, [[0,1],[1,0]])\n",
    "H"
   ]
  },
  {
   "cell_type": "code",
   "execution_count": 4,
   "metadata": {},
   "outputs": [
    {
     "data": {
      "text/plain": [
       "{'IX': (0.21888757104515466+0j),\n",
       " 'XI': (0.21888757104515466+0j),\n",
       " 'YY': (0.11342016220018172-1.734723475976807e-18j),\n",
       " 'YZ': (0.22944337046125035+0j),\n",
       " 'ZY': (0.22944337046125035+0j),\n",
       " 'ZZ': (0.8865798377998182+0j)}"
      ]
     },
     "execution_count": 4,
     "metadata": {},
     "output_type": "execute_result"
    }
   ],
   "source": [
    "get_pauli_decomp(generate_QAOA_operator(H,H))"
   ]
  },
  {
   "cell_type": "code",
   "execution_count": 5,
   "metadata": {},
   "outputs": [],
   "source": [
    "N = 4\n",
    "# H = np.diag(np.random.rand(2**N))\n",
    "# generate_QAOA_operator(H)"
   ]
  },
  {
   "cell_type": "code",
   "execution_count": 6,
   "metadata": {},
   "outputs": [],
   "source": [
    "def mixed_Hamiltonian(N,*localities):\n",
    "    rng = np.random.default_rng()\n",
    "    H = 0\n",
    "    for l in localities:\n",
    "        Zs = get_binary_strings(N,l)\n",
    "        pickedZ = rng.choice(Zs, min(5,len(Zs)), replace=False)\n",
    "        for i in range(0,len(pickedZ)):\n",
    "            H = H + get_circuit_operators(np.zeros(N),pickedZ[i])\n",
    "    return H"
   ]
  },
  {
   "cell_type": "code",
   "execution_count": 7,
   "metadata": {},
   "outputs": [],
   "source": [
    "rng = np.random.default_rng()\n",
    "Zs = get_binary_strings(N,2)\n",
    "# pickedZ = np.random.choice(Zs,size=number_of_terms,replace=False)\n",
    "pickedZ = rng.choice(Zs, 4, replace=False)\n",
    "\n",
    "# Making Hamiltonian\n",
    "H1 = 0\n",
    "for i in range(0,len(pickedZ)):\n",
    "    H1 = H1 + get_circuit_operators(np.zeros(N),pickedZ[i])\n",
    "\n",
    "buf = np.copy(H1)"
   ]
  },
  {
   "cell_type": "code",
   "execution_count": 8,
   "metadata": {},
   "outputs": [],
   "source": [
    "Zs = get_binary_strings(N,3)\n",
    "# pickedZ = np.random.choice(Zs,size=number_of_terms,replace=False)\n",
    "pickedZ = rng.choice(Zs, 4, replace=False)\n",
    "\n",
    "# Making Hamiltonian\n",
    "H2 = buf\n",
    "for i in range(0,len(pickedZ)):\n",
    "    H2 = H2 + get_circuit_operators(np.zeros(N),pickedZ[i])"
   ]
  },
  {
   "cell_type": "code",
   "execution_count": 9,
   "metadata": {},
   "outputs": [
    {
     "data": {
      "text/plain": [
       "([('[1, 0, 0, 0]', (0.3331259153330598-2.0816681711721685e-17j)),\n",
       "  ('[0, 1, 0, 0]', (-0.10394951930596796-5.551115123125783e-17j)),\n",
       "  ('[0, 0, 1, 0]', (0.3331259153330598+7.806255641895632e-18j)),\n",
       "  ('[0, 0, 0, 1]', (0.09993830343129137-9.627715291671279e-17j)),\n",
       "  ('[1, 1, 0, 0]', (-0.14318969785955948+2.7755575615628914e-17j)),\n",
       "  ('[1, 0, 1, 0]', (0.39143089633967193-1.0408340855860843e-17j)),\n",
       "  ('[1, 0, 0, 1]', (-0.363406205277138+4.163336342344337e-17j)),\n",
       "  ('[0, 1, 1, 0]', (-0.14318969785955946+0j)),\n",
       "  ('[0, 1, 0, 1]', (0.29685458165692574+3.469446951953614e-17j)),\n",
       "  ('[0, 0, 1, 1]', (-0.3634062052771381+5.4643789493269423e-17j)),\n",
       "  ('[1, 1, 1, 0]', (0.146899361168565+6.938893903907228e-18j)),\n",
       "  ('[1, 1, 0, 1]', (-0.08575613539149914-2.0816681711721685e-17j)),\n",
       "  ('[1, 0, 1, 1]', (0.3081294971022951+8.673617379884035e-18j)),\n",
       "  ('[0, 1, 1, 1]', (-0.0857561353914991-4.85722573273506e-17j)),\n",
       "  ('[1, 1, 1, 1]', (-0.027919089054135884-6.938893903907228e-18j))],\n",
       " 4,\n",
       " 2.1333333333333333,\n",
       " 15)"
      ]
     },
     "execution_count": 9,
     "metadata": {},
     "output_type": "execute_result"
    }
   ],
   "source": [
    "count_solutions_XI(N,generate_QAOA_operator(H2,H2,2))"
   ]
  },
  {
   "cell_type": "code",
   "execution_count": null,
   "metadata": {},
   "outputs": [],
   "source": []
  },
  {
   "cell_type": "code",
   "execution_count": 10,
   "metadata": {},
   "outputs": [
    {
     "data": {
      "text/plain": [
       "{'IIIX': (-0.246030668994551+6.938893903907228e-18j),\n",
       " 'IIXI': (0.2586307651120624-1.5612511283791264e-17j),\n",
       " 'IXII': (-0.24603066899455106+1.6929650812821594e-17j),\n",
       " 'IXIX': (0.07395913462704876-8.673617379884035e-19j),\n",
       " 'IYIY': (0.021624216912229124+2.6020852139652106e-18j),\n",
       " 'IYIZ': (-0.1609847333193132-1.4016526090003033e-18j),\n",
       " 'IZIY': (-0.16098473331931318+6.938893903907228e-18j),\n",
       " 'IZIZ': (0.9044166484607221-1.3877787807814457e-17j),\n",
       " 'XIII': (0.17553332274588085+1.214306433183765e-17j),\n",
       " 'XIIX': (-0.035177979237440316+2.6020852139652106e-18j),\n",
       " 'XIYZ': (-0.03999135368821688+2.168404344971009e-18j),\n",
       " 'XIZY': (0.019021517988485462+0j),\n",
       " 'XIZZ': (-0.08309744236618152+1.9081958235744878e-17j),\n",
       " 'XXII': (-0.03517797923744032+2.168404344971009e-18j),\n",
       " 'XXZZ': (-0.03517797923744032+2.168404344971009e-18j),\n",
       " 'XYIZ': (0.01902151798848547+3.0357660829594124e-18j),\n",
       " 'XYZI': (0.01902151798848547+3.903127820947816e-18j),\n",
       " 'XZIY': (0.01902151798848546+0j),\n",
       " 'XZIZ': (-0.08309744236618152+8.673617379884035e-18j),\n",
       " 'XZYI': (-0.03999135368821689-4.336808689942018e-19j),\n",
       " 'XZZI': (-0.08309744236618151+1.5612511283791264e-17j),\n",
       " 'XZZX': (-0.035177979237440316-8.673617379884035e-19j),\n",
       " 'YIIY': (-0.010285359035097412+3.469446951953614e-18j),\n",
       " 'YIIZ': (0.18478006373947947-3.469446951953614e-18j),\n",
       " 'YIYI': (0.021624216912229127+3.0357660829594124e-18j),\n",
       " 'YIZI': (0.18478006373947947-3.469446951953614e-18j),\n",
       " 'YIZX': (-0.06505738521914434-4.336808689942018e-19j),\n",
       " 'YXIZ': (0.019021517988485462+1.3010426069826053e-18j),\n",
       " 'YXZI': (-0.06505738521914434+4.336808689942018e-19j),\n",
       " 'YYII': (-0.010285359035097412-1.3010426069826053e-18j),\n",
       " 'YYZZ': (0.035177979237440316+4.336808689942018e-19j),\n",
       " 'YZII': (0.18478006373947947-6.938893903907228e-18j),\n",
       " 'YZIX': (0.019021517988485472+0j),\n",
       " 'YZYZ': (-0.07395913462704876+4.336808689942018e-19j),\n",
       " 'YZZY': (0.03517797923744032+0j),\n",
       " 'YZZZ': (0.32462748697403865+0j),\n",
       " 'ZIIY': (-0.16098473331931318+2.0816681711721685e-17j),\n",
       " 'ZIIZ': (0.9044166484607221+1.3877787807814457e-17j),\n",
       " 'ZIYI': (-0.13984742323455923-3.469446951953614e-18j),\n",
       " 'ZIZI': (0.9044166484607221+0j),\n",
       " 'ZXIY': (-0.03999135368821688+1.3010426069826053e-18j),\n",
       " 'ZXIZ': (-0.24603066899455106+3.887030898900091e-18j),\n",
       " 'ZYII': (-0.16098473331931318+8.340546512907532e-18j),\n",
       " 'ZYIX': (-0.03999135368821688-1.3010426069826053e-18j),\n",
       " 'ZZII': (0.9044166484607221+0j),\n",
       " 'ZZIX': (-0.246030668994551+6.938893903907228e-18j)}"
      ]
     },
     "execution_count": 10,
     "metadata": {},
     "output_type": "execute_result"
    }
   ],
   "source": [
    "get_pauli_decomp(generate_QAOA_operator(H1,H1))"
   ]
  },
  {
   "cell_type": "code",
   "execution_count": 11,
   "metadata": {},
   "outputs": [
    {
     "data": {
      "text/plain": [
       "array([[ 3.+0.j,  0.+0.j,  0.+0.j,  0.+0.j],\n",
       "       [ 0.+0.j, -1.+0.j,  0.+0.j,  0.+0.j],\n",
       "       [ 0.+0.j,  0.+0.j, -1.+0.j,  0.+0.j],\n",
       "       [ 0.+0.j,  0.+0.j,  0.+0.j, -1.+0.j]])"
      ]
     },
     "execution_count": 11,
     "metadata": {},
     "output_type": "execute_result"
    }
   ],
   "source": [
    "mixed_Hamiltonian(2,1,2)"
   ]
  },
  {
   "cell_type": "code",
   "execution_count": null,
   "metadata": {},
   "outputs": [],
   "source": []
  },
  {
   "cell_type": "code",
   "execution_count": 12,
   "metadata": {},
   "outputs": [
    {
     "data": {
      "text/plain": [
       "[('[1, 0, 0, 0, 0]', (0.003439629714838896+1.734723475976807e-18j)),\n",
       " ('[0, 1, 0, 0, 0]', (-0.12524331597427849-2.7755575615628914e-17j)),\n",
       " ('[0, 0, 1, 0, 0]', (-0.20219799838466307+1.734723475976807e-17j)),\n",
       " ('[0, 0, 0, 1, 0]', (-0.5089878934850092-1.6263032587282567e-17j)),\n",
       " ('[0, 0, 0, 0, 1]', (0.00539448844286039-3.0357660829594124e-17j)),\n",
       " ('[1, 1, 0, 0, 0]', (0.15806484886612718+0j)),\n",
       " ('[1, 0, 1, 0, 0]', (-0.12989153064313427+0j)),\n",
       " ('[1, 0, 0, 1, 0]', (0.03149847146473386-1.3877787807814457e-17j)),\n",
       " ('[1, 0, 0, 0, 1]', (-0.0823194535354022-1.9081958235744878e-17j)),\n",
       " ('[0, 1, 1, 0, 0]', (0.08366524898219707-1.734723475976807e-17j)),\n",
       " ('[0, 1, 0, 1, 0]', (0.07076313063032562+1.734723475976807e-17j)),\n",
       " ('[0, 1, 0, 0, 1]', (-0.021401234398460638-1.5612511283791264e-17j)),\n",
       " ('[0, 0, 1, 1, 0]', (0.09805044627973107+3.469446951953614e-18j)),\n",
       " ('[0, 0, 1, 0, 1]', (-0.021401234398460624-5.204170427930421e-18j)),\n",
       " ('[0, 0, 0, 1, 1]', (-0.05898044685919286-1.4493732293765994e-17j)),\n",
       " ('[1, 1, 1, 0, 0]', (0.03648088223319661+0j)),\n",
       " ('[1, 0, 1, 1, 0]', (0.06311741954890022-1.5612511283791264e-17j)),\n",
       " ('[1, 0, 1, 0, 1]', (-0.08924607826538716-5.204170427930421e-18j)),\n",
       " ('[1, 0, 0, 1, 1]', (0.028072972761806696-3.469446951953614e-17j)),\n",
       " ('[0, 1, 0, 1, 1]', (-0.06948419948029311-2.0816681711721685e-17j))]"
      ]
     },
     "execution_count": 12,
     "metadata": {},
     "output_type": "execute_result"
    }
   ],
   "source": [
    "N = 5\n",
    "H = mixed_Hamiltonian(N,1,2,3)\n",
    "ans , *_= count_solutions_XI(N,generate_QAOA_operator(H,H,1))\n",
    "# print( np.ones(N) in ans)\n",
    "ans"
   ]
  },
  {
   "attachments": {},
   "cell_type": "markdown",
   "metadata": {},
   "source": [
    "1   -- ,\n",
    "2   --,\n",
    "3   --,\n",
    "\n",
    "1+2  2,\n",
    "1+3  2,\n",
    "2+3  2,"
   ]
  },
  {
   "attachments": {},
   "cell_type": "markdown",
   "metadata": {},
   "source": []
  },
  {
   "cell_type": "code",
   "execution_count": 48,
   "metadata": {},
   "outputs": [],
   "source": [
    "N = 5\n",
    "H = mixed_Hamiltonian(N,2)"
   ]
  },
  {
   "cell_type": "code",
   "execution_count": 49,
   "metadata": {},
   "outputs": [],
   "source": [
    "beta_angle = np.random.rand(10) * np.pi/3\n",
    "\n",
    "gamma_angle = np.random.rand(10) * np.pi/6\n",
    "\n",
    "ans = np.copy(H)\n",
    "\n",
    "nqubits = int(np.log2(len(H)))\n",
    "\n",
    "mixer = 0\n",
    "x_string = np.zeros(nqubits)\n",
    "\n",
    "for i in range(0,nqubits):\n",
    "    x_string[i] = 1\n",
    "    mixer = mixer + get_circuit_operators(x_string, np.zeros(nqubits))\n",
    "    x_string[i] = 0\n",
    "p=0"
   ]
  },
  {
   "cell_type": "code",
   "execution_count": 50,
   "metadata": {},
   "outputs": [],
   "source": [
    "# Making unitary for Hamiltonian exp\n",
    "exp_H = expm(1j*H*beta_angle[p])\n",
    "# Making mixer X\n",
    "exp_X = expm(1j*mixer*gamma_angle[p])\n",
    "\n",
    "ans = exp_H @ exp_X @ ans @ exp_X.T.conjugate() @ exp_H.T.conjugate()\n",
    "\n",
    "p+=1\n"
   ]
  },
  {
   "cell_type": "code",
   "execution_count": 51,
   "metadata": {},
   "outputs": [],
   "source": [
    "xs = get_circuit_operators(np.ones(nqubits), np.zeros(nqubits))"
   ]
  },
  {
   "cell_type": "code",
   "execution_count": 52,
   "metadata": {},
   "outputs": [
    {
     "data": {
      "text/plain": [
       "array([[ True,  True,  True, ...,  True,  True,  True],\n",
       "       [ True,  True,  True, ...,  True,  True,  True],\n",
       "       [ True,  True,  True, ...,  True,  True,  True],\n",
       "       ...,\n",
       "       [ True,  True,  True, ...,  True,  True,  True],\n",
       "       [ True,  True,  True, ...,  True,  True,  True],\n",
       "       [ True,  True,  True, ...,  True,  True,  True]])"
      ]
     },
     "execution_count": 52,
     "metadata": {},
     "output_type": "execute_result"
    }
   ],
   "source": [
    "exp_H @ xs == xs @ exp_H"
   ]
  },
  {
   "cell_type": "code",
   "execution_count": 53,
   "metadata": {},
   "outputs": [
    {
     "data": {
      "text/plain": [
       "array([1.33841923])"
      ]
     },
     "execution_count": 53,
     "metadata": {},
     "output_type": "execute_result"
    }
   ],
   "source": [
    "beta = np.random.rand(1) * np.pi/3\n",
    "beta_p = np.pi/2 - beta \n",
    "beta_p"
   ]
  },
  {
   "cell_type": "code",
   "execution_count": 56,
   "metadata": {},
   "outputs": [
    {
     "data": {
      "text/plain": [
       "(array([0.97312172]),\n",
       " array([0.97312172]),\n",
       " array([0.23029137]),\n",
       " array([0.23029137]))"
      ]
     },
     "execution_count": 56,
     "metadata": {},
     "output_type": "execute_result"
    }
   ],
   "source": [
    "np.cos(beta), np.sin(beta_p), np.sin(beta), np.cos(beta_p)"
   ]
  },
  {
   "cell_type": "code",
   "execution_count": 57,
   "metadata": {},
   "outputs": [],
   "source": [
    "exp_Hx0 = expm(mixer*beta)\n",
    "exp_Hxp = expm(mixer*beta_p)"
   ]
  },
  {
   "cell_type": "code",
   "execution_count": 58,
   "metadata": {},
   "outputs": [
    {
     "data": {
      "text/plain": [
       "array([[7.08719603e-04+0.j, 3.10456874e-03+0.j, 3.10456874e-03+0.j, ...,\n",
       "        2.60964711e-01+0.j, 2.60964711e-01+0.j, 1.14316421e+00+0.j],\n",
       "       [3.10456874e-03+0.j, 7.08719603e-04+0.j, 1.35996620e-02+0.j, ...,\n",
       "        5.95737514e-02+0.j, 1.14316421e+00+0.j, 2.60964711e-01+0.j],\n",
       "       [3.10456874e-03+0.j, 1.35996620e-02+0.j, 7.08719603e-04+0.j, ...,\n",
       "        1.14316421e+00+0.j, 5.95737514e-02+0.j, 2.60964711e-01+0.j],\n",
       "       ...,\n",
       "       [2.60964711e-01+0.j, 5.95737514e-02+0.j, 1.14316421e+00+0.j, ...,\n",
       "        7.08719603e-04+0.j, 1.35996620e-02+0.j, 3.10456874e-03+0.j],\n",
       "       [2.60964711e-01+0.j, 1.14316421e+00+0.j, 5.95737514e-02+0.j, ...,\n",
       "        1.35996620e-02+0.j, 7.08719603e-04+0.j, 3.10456874e-03+0.j],\n",
       "       [1.14316421e+00+0.j, 2.60964711e-01+0.j, 2.60964711e-01+0.j, ...,\n",
       "        3.10456874e-03+0.j, 3.10456874e-03+0.j, 7.08719603e-04+0.j]])"
      ]
     },
     "execution_count": 58,
     "metadata": {},
     "output_type": "execute_result"
    }
   ],
   "source": [
    "exp_Hx0@xs "
   ]
  },
  {
   "cell_type": "code",
   "execution_count": 60,
   "metadata": {},
   "outputs": [
    {
     "data": {
      "text/plain": [
       "array([[3.51263144+0.j, 3.06052782+0.j, 3.06052782+0.j, ...,\n",
       "        2.0243592 +0.j, 2.0243592 +0.j, 1.76380807+0.j],\n",
       "       [3.06052782+0.j, 3.51263144+0.j, 2.66661354+0.j, ...,\n",
       "        2.32339916+0.j, 1.76380807+0.j, 2.0243592 +0.j],\n",
       "       [3.06052782+0.j, 2.66661354+0.j, 3.51263144+0.j, ...,\n",
       "        1.76380807+0.j, 2.32339916+0.j, 2.0243592 +0.j],\n",
       "       ...,\n",
       "       [2.0243592 +0.j, 2.32339916+0.j, 1.76380807+0.j, ...,\n",
       "        3.51263144+0.j, 2.66661354+0.j, 3.06052782+0.j],\n",
       "       [2.0243592 +0.j, 1.76380807+0.j, 2.32339916+0.j, ...,\n",
       "        2.66661354+0.j, 3.51263144+0.j, 3.06052782+0.j],\n",
       "       [1.76380807+0.j, 2.0243592 +0.j, 2.0243592 +0.j, ...,\n",
       "        3.06052782+0.j, 3.06052782+0.j, 3.51263144+0.j]])"
      ]
     },
     "execution_count": 60,
     "metadata": {},
     "output_type": "execute_result"
    }
   ],
   "source": [
    "exp_Hxp/10"
   ]
  },
  {
   "cell_type": "code",
   "execution_count": 40,
   "metadata": {},
   "outputs": [
    {
     "data": {
      "text/plain": [
       "(1.502285023644781+0j)"
      ]
     },
     "execution_count": 40,
     "metadata": {},
     "output_type": "execute_result"
    }
   ],
   "source": [
    "np.trace(exp_Hx0@xs)/2**N"
   ]
  },
  {
   "cell_type": "code",
   "execution_count": 38,
   "metadata": {},
   "outputs": [
    {
     "data": {
      "text/plain": [
       "array([[2.54671366+0.j, 1.42244636+0.j, 1.42244636+0.j, ...,\n",
       "        0.24785817+0.j, 0.24785817+0.j, 0.13843918+0.j],\n",
       "       [1.42244636+0.j, 2.54671366+0.j, 0.79449593+0.j, ...,\n",
       "        0.44375929+0.j, 0.13843918+0.j, 0.24785817+0.j],\n",
       "       [1.42244636+0.j, 0.79449593+0.j, 2.54671366+0.j, ...,\n",
       "        0.13843918+0.j, 0.44375929+0.j, 0.24785817+0.j],\n",
       "       ...,\n",
       "       [0.24785817+0.j, 0.44375929+0.j, 0.13843918+0.j, ...,\n",
       "        2.54671366+0.j, 0.79449593+0.j, 1.42244636+0.j],\n",
       "       [0.24785817+0.j, 0.13843918+0.j, 0.44375929+0.j, ...,\n",
       "        0.79449593+0.j, 2.54671366+0.j, 1.42244636+0.j],\n",
       "       [0.13843918+0.j, 0.24785817+0.j, 0.24785817+0.j, ...,\n",
       "        1.42244636+0.j, 1.42244636+0.j, 2.54671366+0.j]])"
      ]
     },
     "execution_count": 38,
     "metadata": {},
     "output_type": "execute_result"
    }
   ],
   "source": [
    "exp_Hxp"
   ]
  },
  {
   "cell_type": "code",
   "execution_count": null,
   "metadata": {},
   "outputs": [],
   "source": []
  },
  {
   "cell_type": "code",
   "execution_count": null,
   "metadata": {},
   "outputs": [],
   "source": [
    "def plus_state(n):\n",
    "    return 1/np.sqrt(2**n) * np.ones(2**n)"
   ]
  },
  {
   "cell_type": "code",
   "execution_count": null,
   "metadata": {},
   "outputs": [],
   "source": [
    "def output_state(theta, H, layer):\n",
    "    n = int(np.log2(len(H)))\n",
    "    circ = generate_QAOA_operator(H, number_of_layers = layer , beta_angle = theta[:len(theta)//2], gamma_angle = theta[len(theta)//2:])\n",
    "    return np.dot(plus_state(n).T,circ)\n",
    "\n",
    "\n",
    "def energy(theta, H, layer):\n",
    "    state = output_state(theta, H, layer)\n",
    "    n = int(np.log2(len(H)))\n",
    "    return np.real(np.dot(state.conjugate().T, np.dot(H, state)))\n",
    "\n",
    "\n",
    "def get_expectation(H, layer):\n",
    "\n",
    "    def execute_circ(theta):\n",
    "        return energy(theta, H, layer)\n",
    "\n",
    "    return execute_circ\n"
   ]
  },
  {
   "cell_type": "code",
   "execution_count": null,
   "metadata": {},
   "outputs": [],
   "source": [
    "def theta_for_ground_state(H,layer=1, repeat=10, maxiter=100):\n",
    "    bds = Bounds(0, 2 * np.pi)\n",
    "    expectation = get_expectation(H,layer)\n",
    "    for i in range(repeat):\n",
    "        initial_params = np.random.uniform(0, np.pi/4, layer*2)  # initial guess of parameters\n",
    "        res = minimize(expectation,\n",
    "                       initial_params, method='L-BFGS-B', jac='3-point', bounds=bds, options={'maxiter': maxiter})\n",
    "        if i == 0:\n",
    "            E_min = res.fun\n",
    "            params = res.x\n",
    "        if res.fun < E_min:\n",
    "            E_min = res.fun\n",
    "            params = res.x\n",
    "        # print(E_min)\n",
    "    return params, E_min"
   ]
  }
 ],
 "metadata": {
  "kernelspec": {
   "display_name": "Python 3",
   "language": "python",
   "name": "python3"
  },
  "language_info": {
   "codemirror_mode": {
    "name": "ipython",
    "version": 3
   },
   "file_extension": ".py",
   "mimetype": "text/x-python",
   "name": "python",
   "nbconvert_exporter": "python",
   "pygments_lexer": "ipython3",
   "version": "3.10.2"
  },
  "orig_nbformat": 4
 },
 "nbformat": 4,
 "nbformat_minor": 2
}
