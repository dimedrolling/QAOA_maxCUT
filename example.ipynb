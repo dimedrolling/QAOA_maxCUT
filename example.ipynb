{
 "cells": [
  {
   "cell_type": "code",
   "execution_count": 1,
   "metadata": {},
   "outputs": [],
   "source": [
    "import networkx as nx\n",
    "from QAOA_locality import *\n"
   ]
  },
  {
   "cell_type": "code",
   "execution_count": 36,
   "metadata": {},
   "outputs": [
    {
     "data": {
      "image/png": "[encoded data removed]",
      "text/plain": [
       "<Figure size 432x288 with 1 Axes>"
      ]
     },
     "metadata": {},
     "output_type": "display_data"
    }
   ],
   "source": [
    "\n",
    "# Step 1: Create a graph for the maxCUT problem\n",
    "G = nx.Graph()\n",
    "G.add_nodes_from(range(5))  # adds nodes to the Graph\n",
    "# adds connections\n",
    "G.add_edge(0, 1)\n",
    "G.add_edge(1, 3)\n",
    "G.add_edge(0, 2)\n",
    "G.add_edge(2, 4)\n",
    "G.add_edge(3, 4)\n",
    "\n",
    "# Visualize the graph (optional)\n",
    "nx.draw(G)\n"
   ]
  },
  {
   "cell_type": "code",
   "execution_count": 3,
   "metadata": {},
   "outputs": [],
   "source": [
    "\n",
    "# Step 2: Create the Hamiltonian for the graph\n",
    "H = make_H_maxCUT(G)\n"
   ]
  },
  {
   "cell_type": "code",
   "execution_count": 4,
   "metadata": {},
   "outputs": [
    {
     "data": {
      "image/png": "[encoded data removed]",
      "text/plain": [
       "<Figure size 432x288 with 1 Axes>"
      ]
     },
     "metadata": {},
     "output_type": "display_data"
    }
   ],
   "source": [
    "# Step 3: Create a subgraph for a smaller problem, i.e. term of the Hamilotian.\n",
    "G1 = nx.Graph()\n",
    "G1.add_nodes_from(range(5)) # Note that numeration should be the same\n",
    "G1.add_edge(0, 1)\n",
    "\n",
    "# Visualize the subgraph (optional)\n",
    "nx.draw(G1)\n"
   ]
  },
  {
   "cell_type": "code",
   "execution_count": 5,
   "metadata": {},
   "outputs": [],
   "source": [
    "# Step 4: Create the Hamiltonian for the subgraph\n",
    "H1 = make_H_maxCUT(G1)\n"
   ]
  },
  {
   "cell_type": "code",
   "execution_count": 6,
   "metadata": {},
   "outputs": [],
   "source": [
    "# Step 5: Construct the QAOA operator for two layers\n",
    "# Note: You can adjust the number of layers as needed\n",
    "qaoa = construct_QAOA_operator_term(H1, H, number_of_layers=2)\n"
   ]
  },
  {
   "cell_type": "code",
   "execution_count": 7,
   "metadata": {},
   "outputs": [
    {
     "name": "stdout",
     "output_type": "stream",
     "text": [
      "\n",
      "X/I Solutions: [('[1, 0, 0, 0, 0]', -0.109649), ('[0, 1, 0, 0, 0]', -0.109649), ('[0, 0, 1, 0, 0]', 1e-05), ('[0, 0, 0, 1, 0]', 1e-05), ('[1, 1, 1, 1, 0]', 1e-06)]\n",
      "Number of X/I Solutions: 5\n"
     ]
    }
   ],
   "source": [
    "# Step 6: Count the X/I solutions and other statistics\n",
    "x_i_solutions, max_locality, avg_locality, num_solutions = count_solutions_XI(qaoa)\n",
    "\n",
    "\n",
    "print(\"\\nX/I Solutions:\", x_i_solutions)\n",
    "print(\"Number of X/I Solutions:\", num_solutions)\n",
    "# print(\"Maximum Locality:\", max_locality)\n",
    "# print(\"Average Locality:\", avg_locality)\n"
   ]
  },
  {
   "cell_type": "markdown",
   "metadata": {},
   "source": [
    "If you want to see the QAOA for the whole Hamiltonian, i.e. exp_H @ exp_X @ H @ exp_X.T.conjugate() @ exp_H.T.conjugate() you can use one of the following approaches"
   ]
  },
  {
   "cell_type": "code",
   "execution_count": 35,
   "metadata": {},
   "outputs": [],
   "source": [
    "number_of_layers = 2\n",
    "# let's fix angles here to test that ouputs are the same\n",
    "beta_angle = np.random.rand(number_of_layers) * np.pi / 3\n",
    "gamma_angle = np.random.rand(number_of_layers) * np.pi / 6"
   ]
  },
  {
   "cell_type": "code",
   "execution_count": 33,
   "metadata": {},
   "outputs": [
    {
     "data": {
      "text/plain": [
       "([('[1, 0, 0, 0, 0]', 0.316104),\n",
       "  ('[0, 1, 0, 0, 0]', 0.316104),\n",
       "  ('[0, 0, 1, 0, 0]', 0.316104),\n",
       "  ('[0, 0, 0, 1, 0]', 0.316104),\n",
       "  ('[0, 0, 0, 0, 1]', 0.316104),\n",
       "  ('[1, 1, 1, 1, 0]', 0.041042),\n",
       "  ('[1, 1, 1, 0, 1]', 0.041042),\n",
       "  ('[1, 1, 0, 1, 1]', 0.041042),\n",
       "  ('[1, 0, 1, 1, 1]', 0.041042),\n",
       "  ('[0, 1, 1, 1, 1]', 0.041042)],\n",
       " 4,\n",
       " 2.5,\n",
       " 10)"
      ]
     },
     "execution_count": 33,
     "metadata": {},
     "output_type": "execute_result"
    }
   ],
   "source": [
    "count_solutions_XI(construct_QAOA_operator_term(H, H, number_of_layers, beta_angle, gamma_angle) )"
   ]
  },
  {
   "cell_type": "code",
   "execution_count": 34,
   "metadata": {},
   "outputs": [
    {
     "data": {
      "text/plain": [
       "([('[1, 0, 0, 0, 0]', 0.316104),\n",
       "  ('[0, 1, 0, 0, 0]', 0.316104),\n",
       "  ('[0, 0, 1, 0, 0]', 0.316104),\n",
       "  ('[0, 0, 0, 1, 0]', 0.316104),\n",
       "  ('[0, 0, 0, 0, 1]', 0.316104),\n",
       "  ('[1, 1, 1, 1, 0]', 0.041042),\n",
       "  ('[1, 1, 1, 0, 1]', 0.041042),\n",
       "  ('[1, 1, 0, 1, 1]', 0.041042),\n",
       "  ('[1, 0, 1, 1, 1]', 0.041042),\n",
       "  ('[0, 1, 1, 1, 1]', 0.041042)],\n",
       " 4,\n",
       " 2.5,\n",
       " 10)"
      ]
     },
     "execution_count": 34,
     "metadata": {},
     "output_type": "execute_result"
    }
   ],
   "source": [
    "count_solutions_XI(construct_QAOA_operator_from_H(H,number_of_layers, beta_angle, gamma_angle))"
   ]
  }
 ],
 "metadata": {
  "kernelspec": {
   "display_name": "Python 3",
   "language": "python",
   "name": "python3"
  },
  "language_info": {
   "codemirror_mode": {
    "name": "ipython",
    "version": 3
   },
   "file_extension": ".py",
   "mimetype": "text/x-python",
   "name": "python",
   "nbconvert_exporter": "python",
   "pygments_lexer": "ipython3",
   "version": "3.10.2"
  },
  "orig_nbformat": 4
 },
 "nbformat": 4,
 "nbformat_minor": 2
}
