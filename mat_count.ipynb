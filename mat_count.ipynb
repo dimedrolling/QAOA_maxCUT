{
 "cells": [
  {
   "cell_type": "code",
   "execution_count": 11,
   "metadata": {},
   "outputs": [],
   "source": [
    "import numpy as np\n",
    "import scipy as sp\n",
    "from tqdm import tqdm"
   ]
  },
  {
   "cell_type": "code",
   "execution_count": 2,
   "metadata": {},
   "outputs": [],
   "source": [
    "# def mat_counts(p, r):\n",
    "#     m = len(p)\n",
    "#     n = len(r)\n",
    "   \n",
    "#     def vect_binom(a, b):\n",
    "#         return np.prod([sp.special.binom(a[i], b[i]) for i in  range(len(a))])\n",
    "        \n",
    "#     def over(r, s):\n",
    "#         return r - s + np.concatenate((s[1:], [0]))\n",
    "\n",
    "#     ans=[]\n",
    "#     def gen(i, r, l, p):\n",
    "#         global ans\n",
    "#         if i == len(r):\n",
    "#             if np.sum(ans) == p:\n",
    "#                 l.append(np.array(ans[0:]))\n",
    "#             return\n",
    "#         for j in range(r[i]+1):\n",
    "#             ans.append(j)\n",
    "#             gen(i+1, r, l, p)\n",
    "#             ans.pop()\n",
    "            \n",
    "#     def C(r, p):\n",
    "#         l = []\n",
    "#         gen(0, r, l, p)\n",
    "#         return l\n",
    "\n",
    "#     if p.size == 0:\n",
    "#         return 1\n",
    "#     sum = 0\n",
    "#     for s in C(r, p[0]):\n",
    "#         sum += vect_binom(r, s) * mat_counts(p[1:], over(r, s))\n",
    "#     return sum\n",
    "\n",
    "# def mat_counts_start(p, q):\n",
    "#     m = len(p)\n",
    "#     r =  np.array([list(q).count(i) for i in range(1, m)])\n",
    "   \n",
    "#     def vect_binom(a, b):\n",
    "#         return np.prod([sp.special.binom(a[i], b[i]) for i in  range(len(a))])\n",
    "        \n",
    "#     def over(r, s):\n",
    "#         return r - s + np.concatenate((s[1:], [0]))\n",
    "\n",
    "#     ans=[]\n",
    "#     def gen(i, r, l, p, ans):\n",
    "\n",
    "#         if i == len(r):\n",
    "#             if np.sum(ans) == p:\n",
    "#                 l.append(np.array(ans[0:]))\n",
    "#             return\n",
    "#         for j in range(r[i]+1):\n",
    "#             ans.append(j)\n",
    "#             gen(i+1, r, l, p)\n",
    "#             ans.pop()\n",
    "            \n",
    "    \n",
    "#     l = []\n",
    "#     gen(0, r, l, p, ans)\n",
    "    \n",
    "\n",
    "#     if p.size == 0:\n",
    "#         return 1\n",
    "#     sum = 0\n",
    "#     for s in l:\n",
    "#         sum += vect_binom(r, s) * mat_counts(p[1:], over(r, s))\n",
    "#     return sum"
   ]
  },
  {
   "cell_type": "code",
   "execution_count": 12,
   "metadata": {},
   "outputs": [],
   "source": [
    "\n",
    "def q_to_counts(a,m):\n",
    "    return np.array([list(a).count(i) for i in range(1, m)])\n",
    "\n",
    "def vect_binom(a, b):\n",
    "    return np.prod([sp.special.binom(a[i], b[i]) for i in  range(len(a))])\n",
    "    \n",
    "def over(r, s):\n",
    "    return r - s + np.concatenate((s[1:], [0]))\n",
    "\n",
    "ans=[]\n",
    "def gen(i, r, l, p):\n",
    "    global ans\n",
    "    if i == len(r):\n",
    "        if np.sum(ans) == p:\n",
    "            l.append(np.array(ans[0:]))\n",
    "        return\n",
    "    for j in range(r[i]+1):\n",
    "        ans.append(j)\n",
    "        gen(i+1, r, l, p)\n",
    "        ans.pop()\n",
    "        \n",
    "def C(r, p):\n",
    "    l = []\n",
    "    gen(0, r, l, p)\n",
    "    return l\n",
    "\n",
    "def mat_counts(p, r):\n",
    "    \n",
    "    if p.size == 0:\n",
    "        return 1\n",
    "    sum = 0\n",
    "    \n",
    "    for s in C(r, p[0]):\n",
    "        sum += vect_binom(r, s) * mat_counts(p[1:], over(r, s))\n",
    "    return sum"
   ]
  },
  {
   "cell_type": "code",
   "execution_count": 13,
   "metadata": {},
   "outputs": [
    {
     "data": {
      "text/plain": [
       "8.0"
      ]
     },
     "execution_count": 13,
     "metadata": {},
     "output_type": "execute_result"
    }
   ],
   "source": [
    "p = np.array([2, 2, 1, 1])\n",
    "q = np.array([3, 2, 1])\n",
    "mat_counts(p,q_to_counts(q,len(p)))"
   ]
  },
  {
   "cell_type": "code",
   "execution_count": 14,
   "metadata": {},
   "outputs": [
    {
     "name": "stderr",
     "output_type": "stream",
     "text": [
      " 75%|███████▌  | 6/8 [00:22<00:11,  5.81s/it]"
     ]
    }
   ],
   "source": [
    "import matplotlib.pyplot as plt\n",
    "import time \n",
    "\n",
    "times = []\n",
    "counts = []\n",
    "N = 10\n",
    "\n",
    "for i in tqdm(range(2,N)):\n",
    "    p = np.random.randint(0,i-1,size=i)\n",
    "    q = np.ones(i)*(i-1) - p \n",
    "    t1 = time.time()\n",
    "    m = 0 \n",
    "    for i in range(100):\n",
    "        m += float(mat_counts(p,q_to_counts(q,len(p))))\n",
    "    times.append((time.time()-t1)/10)\n",
    "    counts.append(m/10)\n",
    "\n",
    "\n"
   ]
  },
  {
   "cell_type": "code",
   "execution_count": 30,
   "metadata": {},
   "outputs": [
    {
     "data": {
      "text/plain": [
       "[<matplotlib.lines.Line2D at 0x1ea33c9cd00>]"
      ]
     },
     "execution_count": 30,
     "metadata": {},
     "output_type": "execute_result"
    },
    {
     "data": {
      "image/png": "[encoded data removed]",
      "text/plain": [
       "<Figure size 432x288 with 1 Axes>"
      ]
     },
     "metadata": {
      "needs_background": "light"
     },
     "output_type": "display_data"
    }
   ],
   "source": [
    "plt.plot(times[:-2])"
   ]
  },
  {
   "cell_type": "code",
   "execution_count": 31,
   "metadata": {},
   "outputs": [
    {
     "data": {
      "text/plain": [
       "[<matplotlib.lines.Line2D at 0x1ea33cfdcf0>]"
      ]
     },
     "execution_count": 31,
     "metadata": {},
     "output_type": "execute_result"
    },
    {
     "data": {
      "image/png": "[encoded data removed]",
      "text/plain": [
       "<Figure size 432x288 with 1 Axes>"
      ]
     },
     "metadata": {
      "needs_background": "light"
     },
     "output_type": "display_data"
    }
   ],
   "source": [
    "plt.plot(counts[:-2])"
   ]
  },
  {
   "cell_type": "code",
   "execution_count": null,
   "metadata": {},
   "outputs": [],
   "source": []
  },
  {
   "cell_type": "code",
   "execution_count": null,
   "metadata": {},
   "outputs": [],
   "source": []
  },
  {
   "cell_type": "code",
   "execution_count": null,
   "metadata": {},
   "outputs": [],
   "source": [
    "import numpy as np\n",
    "import scipy as sp"
   ]
  },
  {
   "cell_type": "code",
   "execution_count": null,
   "metadata": {},
   "outputs": [],
   "source": [
    "p = np.array([2, 2, 1, 1])\n",
    "q = np.array([3, 2, 1])\n",
    "m = len(p)\n",
    "n = len(q)\n",
    "\n",
    "def q_to_counts(a):\n",
    "    return np.array([list(a).count(i) for i in range(1, m)])\n",
    "\n",
    "def vect_binom(a, b):\n",
    "    return np.prod([sp.special.binom(a[i], b[i]) for i in  range(len(a))])\n",
    "    \n",
    "def over(r, s):\n",
    "    return r - s + np.concatenate((s[1:], [0]))\n",
    "\n",
    "ans=[]\n",
    "def gen(i, r, l, p):\n",
    "    global ans\n",
    "    if i == len(r):\n",
    "        if np.sum(ans) == p:\n",
    "            l.append(np.array(ans[0:]))\n",
    "        return\n",
    "    for j in range(r[i]+1):\n",
    "        ans.append(j)\n",
    "        gen(i+1, r, l, p)\n",
    "        ans.pop()\n",
    "        \n",
    "def C(r, p):\n",
    "    l = []\n",
    "    gen(0, r, l, p)\n",
    "    return l\n",
    "\n",
    "def N(p, r):\n",
    "    if p.size == 0:\n",
    "        return 1\n",
    "    sum = 0\n",
    "    for s in C(r, p[0]):\n",
    "        sum += vect_binom(r, s) * N(p[1:], over(r, s))\n",
    "    return sum"
   ]
  },
  {
   "cell_type": "code",
   "execution_count": null,
   "metadata": {},
   "outputs": [],
   "source": [
    "N(p, q_to_counts(q))"
   ]
  }
 ],
 "metadata": {
  "kernelspec": {
   "display_name": "Python 3",
   "language": "python",
   "name": "python3"
  },
  "language_info": {
   "codemirror_mode": {
    "name": "ipython",
    "version": 3
   },
   "file_extension": ".py",
   "mimetype": "text/x-python",
   "name": "python",
   "nbconvert_exporter": "python",
   "pygments_lexer": "ipython3",
   "version": "3.10.2"
  },
  "orig_nbformat": 4
 },
 "nbformat": 4,
 "nbformat_minor": 2
}
