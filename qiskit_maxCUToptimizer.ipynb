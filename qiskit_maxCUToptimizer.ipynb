{
 "cells": [
  {
   "cell_type": "code",
   "execution_count": 16,
   "metadata": {},
   "outputs": [],
   "source": [
    "# useful additional packages\n",
    "import matplotlib.pyplot as plt\n",
    "import numpy as np\n",
    "import networkx as nx\n"
   ]
  },
  {
   "cell_type": "code",
   "execution_count": 17,
   "metadata": {},
   "outputs": [
    {
     "data": {
      "image/png": "[encoded data removed]",
      "text/plain": [
       "<Figure size 432x288 with 1 Axes>"
      ]
     },
     "metadata": {},
     "output_type": "display_data"
    }
   ],
   "source": [
    "n = 4  # Number of nodes in graph\n",
    "G = nx.Graph()\n",
    "G.add_nodes_from(np.arange(0, n, 1))\n",
    "elist = [(0, 1, 1.0), (0, 2, 1.0), (0, 3, 1.0), (1, 2, 1.0), (2, 3, 1.0)]\n",
    "# tuple is (i,j,weight) where (i,j) is the edge\n",
    "G.add_weighted_edges_from(elist)\n",
    "\n",
    "colors = [\"r\" for node in G.nodes()]\n",
    "pos = nx.spring_layout(G)\n",
    "\n",
    "\n",
    "def draw_graph(G, colors, pos):\n",
    "    default_axes = plt.axes(frameon=True)\n",
    "    nx.draw_networkx(G, node_color=colors, node_size=600, alpha=0.8, ax=default_axes, pos=pos)\n",
    "    edge_labels = nx.get_edge_attributes(G, \"weight\")\n",
    "    nx.draw_networkx_edge_labels(G, pos=pos, edge_labels=edge_labels)\n",
    "\n",
    "\n",
    "draw_graph(G, colors, pos)"
   ]
  },
  {
   "cell_type": "code",
   "execution_count": 18,
   "metadata": {},
   "outputs": [
    {
     "name": "stdout",
     "output_type": "stream",
     "text": [
      "[[0. 1. 1. 1.]\n",
      " [1. 0. 1. 0.]\n",
      " [1. 1. 0. 1.]\n",
      " [1. 0. 1. 0.]]\n"
     ]
    }
   ],
   "source": [
    "# Computing the weight matrix from the random graph\n",
    "w = np.zeros([n, n])\n",
    "for i in range(n):\n",
    "    for j in range(n):\n",
    "        temp = G.get_edge_data(i, j, default=0)\n",
    "        if temp != 0:\n",
    "            w[i, j] = temp[\"weight\"]\n",
    "print(w)"
   ]
  },
  {
   "cell_type": "code",
   "execution_count": 21,
   "metadata": {},
   "outputs": [
    {
     "data": {
      "text/plain": [
       "NodeView((0, 1, 2, 3))"
      ]
     },
     "execution_count": 21,
     "metadata": {},
     "output_type": "execute_result"
    }
   ],
   "source": [
    "G."
   ]
  },
  {
   "cell_type": "code",
   "execution_count": null,
   "metadata": {},
   "outputs": [],
   "source": []
  }
 ],
 "metadata": {
  "kernelspec": {
   "display_name": "Python 3",
   "language": "python",
   "name": "python3"
  },
  "language_info": {
   "codemirror_mode": {
    "name": "ipython",
    "version": 3
   },
   "file_extension": ".py",
   "mimetype": "text/x-python",
   "name": "python",
   "nbconvert_exporter": "python",
   "pygments_lexer": "ipython3",
   "version": "3.10.2"
  },
  "orig_nbformat": 4
 },
 "nbformat": 4,
 "nbformat_minor": 2
}
